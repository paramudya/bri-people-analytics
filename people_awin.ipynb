{
 "cells": [
  {
   "cell_type": "markdown",
   "metadata": {
    "id": "DGhi0NcQJzrK"
   },
   "source": [
    "#### setup colab"
   ]
  },
  {
   "cell_type": "code",
   "execution_count": 2,
   "metadata": {
    "colab": {
     "base_uri": "https://localhost:8080/"
    },
    "id": "xqJOg1qEJKWb",
    "outputId": "71277c54-e1ce-49b7-fc02-bac2888d2489"
   },
   "outputs": [
    {
     "name": "stdout",
     "output_type": "stream",
     "text": [
      "Mounted at /content/drive/\n",
      "/content/drive/My Drive/people\n"
     ]
    }
   ],
   "source": [
    "from google.colab import drive\n",
    "drive.mount('/content/drive/')\n",
    "%cd '/content/drive/My Drive/people'"
   ]
  },
  {
   "cell_type": "markdown",
   "metadata": {},
   "source": [
    "#### imports"
   ]
  },
  {
   "cell_type": "code",
   "execution_count": 270,
   "metadata": {
    "ExecuteTime": {
     "end_time": "2020-12-25T02:59:35.273096Z",
     "start_time": "2020-12-25T02:59:32.915332Z"
    },
    "id": "C2MeIWicN1tw"
   },
   "outputs": [],
   "source": [
    "import pandas as p\n",
    "from scipy import stats\n",
    "import numpy as np\n",
    "\n",
    "from sklearn.preprocessing import LabelEncoder"
   ]
  },
  {
   "cell_type": "markdown",
   "metadata": {
    "id": "zWLNztgYKRSJ"
   },
   "source": [
    "#### load raw"
   ]
  },
  {
   "cell_type": "code",
   "execution_count": 363,
   "metadata": {
    "ExecuteTime": {
     "end_time": "2020-12-25T03:10:28.202361Z",
     "start_time": "2020-12-25T03:10:27.981777Z"
    },
    "id": "00HrViKuKVNI"
   },
   "outputs": [],
   "source": [
    "test=pd.read_csv(\"test.csv\");train=pd.read_csv(\"train.csv\");train_raw=train.copy();test_raw=test.copy()"
   ]
  },
  {
   "cell_type": "markdown",
   "metadata": {
    "id": "DiTcyNGvO3xD"
   },
   "source": [
    "#### EDA"
   ]
  },
  {
   "cell_type": "markdown",
   "metadata": {
    "id": "iJjMqCbzvLk9"
   },
   "source": [
    "#### data points modification\n",
    "job_level, person_level,age, Education_level, year_graduated, achievement_target_1(2&3)\n",
    "- (may need info on which year is this data taken from)\n",
    "- info from each columns"
   ]
  },
  {
   "cell_type": "markdown",
   "metadata": {},
   "source": [
    "penyesuaian nilai angka **age** (current_age), **year_graduated** (years_graduated)\n",
    "\n",
    "mengubah Dtype year_graduated sekaligus nilai yg tidak sesuai menjadi NaN"
   ]
  },
  {
   "cell_type": "code",
   "execution_count": 364,
   "metadata": {
    "ExecuteTime": {
     "end_time": "2020-12-25T03:10:28.718790Z",
     "start_time": "2020-12-25T03:10:28.641094Z"
    }
   },
   "outputs": [],
   "source": [
    "train['year_graduated']=pd.to_numeric(train['year_graduated'], errors='coerce', downcast ='integer')\n",
    "# train['year_graduated'].astype('int32') #cannot convert NA or inf to integer\n",
    "# keduanya dengan asumsi ini tahun 2019\n",
    "train['current_age']=2019-train['age']\n",
    "train['years_graduated']=2019-train['year_graduated']\n",
    "train.drop(['age','year_graduated','Education_level'],axis=1,inplace=True)"
   ]
  },
  {
   "cell_type": "markdown",
   "metadata": {
    "ExecuteTime": {
     "end_time": "2020-12-25T01:18:05.168128Z",
     "start_time": "2020-12-25T01:18:05.163177Z"
    }
   },
   "source": [
    " penghapusan sebagian karakter untuk dijadikan bentuk ordinal: **job_level**, **person_level**, dan , **education_level**"
   ]
  },
  {
   "cell_type": "code",
   "execution_count": 365,
   "metadata": {
    "ExecuteTime": {
     "end_time": "2020-12-25T03:10:29.142876Z",
     "start_time": "2020-12-25T03:10:28.974373Z"
    }
   },
   "outputs": [],
   "source": [
    "train['job_level']=train['job_level'].str.lstrip('JG0')\n",
    "train['person_level']=train['person_level'].str.lstrip('PG0')\n",
    "train['education_level']=train['person_level'].str.lstrip('level_')\n",
    "\n",
    "train['job_level']=pd.to_numeric(train['job_level'], errors='raise')\n",
    "train['person_level']=pd.to_numeric(train['person_level'], errors='raise')\n",
    "train['education_level']=pd.to_numeric(train['education_level'], errors='raise')"
   ]
  },
  {
   "cell_type": "markdown",
   "metadata": {
    "ExecuteTime": {
     "end_time": "2020-12-25T01:53:10.495012Z",
     "start_time": "2020-12-25T01:53:10.491022Z"
    }
   },
   "source": [
    "**achievement_target_1** & **achievement_target_2** diolah lebih lanjut"
   ]
  },
  {
   "cell_type": "code",
   "execution_count": null,
   "metadata": {
    "ExecuteTime": {
     "end_time": "2020-12-25T02:37:23.778939Z",
     "start_time": "2020-12-25T02:37:23.764977Z"
    }
   },
   "outputs": [],
   "source": []
  },
  {
   "cell_type": "code",
   "execution_count": 366,
   "metadata": {
    "ExecuteTime": {
     "end_time": "2020-12-25T03:10:29.604502Z",
     "start_time": "2020-12-25T03:10:29.477126Z"
    }
   },
   "outputs": [],
   "source": [
    "targets=['achievement_target_1','achievement_target_2']\n",
    "for target in targets:\n",
    "    train.loc[(train[target] == 'achiev_< 50%' )|( train[target] == 'Pencapaian < 50%'), target] = 1\n",
    "    train.loc[(train[target] == 'achiev_50%-100%' )|( train[target] == 'Pencapaian 50%-100%'), target] = 2\n",
    "    train.loc[(train[target] == 'achiev_100%-150%' )|( train[target] == 'Pencapaian 100%-150%'), target] = 3\n",
    "    train.loc[(train[target] == 'achiev_> 1.5' )|( train[target] == 'Pencapaian > 1.5'), target] = 4\n",
    "#     train.loc[train[target] == 'Tidak diberikan target', target] = float('NaN')\n",
    "\n",
    "    train[target]=pd.to_numeric(train[target], errors='coerce') #NaN given here\n",
    "    \n",
    "train['achievement_target_3'] = train['achievement_target_3'].apply(lambda x: 1 if x == 'reached' else 0)\n"
   ]
  },
  {
   "cell_type": "code",
   "execution_count": 367,
   "metadata": {
    "ExecuteTime": {
     "end_time": "2020-12-25T03:10:29.646440Z",
     "start_time": "2020-12-25T03:10:29.635501Z"
    }
   },
   "outputs": [
    {
     "name": "stdout",
     "output_type": "stream",
     "text": [
      "1: [ 2.  3.  1.  4. nan] \n",
      "2: [ 1.  2.  4.  3. nan]\n"
     ]
    },
    {
     "data": {
      "text/plain": [
       "0        2.0\n",
       "1        2.0\n",
       "2        3.0\n",
       "3        2.0\n",
       "4        1.0\n",
       "        ... \n",
       "22000    2.0\n",
       "22001    NaN\n",
       "22002    2.0\n",
       "22003    3.0\n",
       "22004    2.0\n",
       "Name: achievement_target_1, Length: 22005, dtype: float64"
      ]
     },
     "execution_count": 367,
     "metadata": {},
     "output_type": "execute_result"
    }
   ],
   "source": [
    "print('1:',train['achievement_target_1'].unique(),'\\n2:', train['achievement_target_2'].unique())\n",
    "train['achievement_target_1']"
   ]
  },
  {
   "cell_type": "markdown",
   "metadata": {},
   "source": [
    "#### outliers management\n",
    "fiturnya banyak, jadi sayang bgt kalo gara2 1 fitur ada outlier lgsg dibuang\n",
    "outlier ada di: yg dtypenya int dan float\n"
   ]
  },
  {
   "cell_type": "code",
   "execution_count": 368,
   "metadata": {
    "ExecuteTime": {
     "end_time": "2020-12-25T03:10:30.276771Z",
     "start_time": "2020-12-25T03:10:29.972390Z"
    },
    "scrolled": false
   },
   "outputs": [],
   "source": [
    "angka_columns = train.loc[:, (train.dtypes == np.float64)|(train.dtypes == np.int64)].columns\n",
    "                        \n",
    "#ubah semua outliers jadi NaN (untuk nanti diubah jadi mean??)                        \n",
    "for col in angka_columns:\n",
    "    z =     np.abs((train[col] - train[col].mean())/train[col].std(ddof=0))\n",
    "    #print(z,col)\n",
    "    train.loc[z > 3, col] = float('NaN')"
   ]
  },
  {
   "cell_type": "code",
   "execution_count": 369,
   "metadata": {
    "ExecuteTime": {
     "end_time": "2020-12-25T03:10:30.348496Z",
     "start_time": "2020-12-25T03:10:30.279648Z"
    }
   },
   "outputs": [
    {
     "name": "stdout",
     "output_type": "stream",
     "text": [
      "<class 'pandas.core.frame.DataFrame'>\n",
      "RangeIndex: 22005 entries, 0 to 22004\n",
      "Data columns (total 30 columns):\n",
      " #   Column                                 Non-Null Count  Dtype  \n",
      "---  ------                                 --------------  -----  \n",
      " 0   job_level                              22005 non-null  object \n",
      " 1   job_duration_in_current_job_level      22005 non-null  float64\n",
      " 2   person_level                           22005 non-null  object \n",
      " 3   job_duration_in_current_person_level   22005 non-null  float64\n",
      " 4   job_duration_in_current_branch         22005 non-null  float64\n",
      " 5   Employee_type                          21993 non-null  object \n",
      " 6   Employee_status                        22005 non-null  object \n",
      " 7   gender                                 22005 non-null  object \n",
      " 8   age                                    22005 non-null  int64  \n",
      " 9   marital_status_maried(Y/N)             22005 non-null  object \n",
      " 10  number_of_dependences                  22005 non-null  int64  \n",
      " 11  number_of_dependences (male)           22005 non-null  int64  \n",
      " 12  number_of_dependences (female)         22005 non-null  int64  \n",
      " 13  Education_level                        18397 non-null  object \n",
      " 14  GPA                                    18502 non-null  float64\n",
      " 15  year_graduated                         18502 non-null  object \n",
      " 16  job_duration_as_permanent_worker       19950 non-null  float64\n",
      " 17  job_duration_from_training             22005 non-null  int64  \n",
      " 18  branch_rotation                        22005 non-null  int64  \n",
      " 19  job_rotation                           22005 non-null  int64  \n",
      " 20  assign_of_otherposition                22005 non-null  int64  \n",
      " 21  annual leave                           22005 non-null  int64  \n",
      " 22  sick_leaves                            22005 non-null  int64  \n",
      " 23  Best Performance                       22005 non-null  int64  \n",
      " 24  Avg_achievement_%                      15716 non-null  float64\n",
      " 25  Last_achievement_%                     15703 non-null  float64\n",
      " 26  Achievement_above_100%_during3quartal  15703 non-null  float64\n",
      " 27  achievement_target_1                   15278 non-null  object \n",
      " 28  achievement_target_2                   15278 non-null  object \n",
      " 29  achievement_target_3                   15278 non-null  object \n",
      "dtypes: float64(8), int64(11), object(11)\n",
      "memory usage: 5.0+ MB\n",
      "<class 'pandas.core.frame.DataFrame'>\n",
      "RangeIndex: 22005 entries, 0 to 22004\n",
      "Data columns (total 30 columns):\n",
      " #   Column                                 Non-Null Count  Dtype  \n",
      "---  ------                                 --------------  -----  \n",
      " 0   job_level                              21998 non-null  float64\n",
      " 1   job_duration_in_current_job_level      21111 non-null  float64\n",
      " 2   person_level                           21500 non-null  float64\n",
      " 3   job_duration_in_current_person_level   21435 non-null  float64\n",
      " 4   job_duration_in_current_branch         21836 non-null  float64\n",
      " 5   Employee_type                          21993 non-null  object \n",
      " 6   Employee_status                        22005 non-null  object \n",
      " 7   gender                                 22005 non-null  object \n",
      " 8   marital_status_maried(Y/N)             22005 non-null  object \n",
      " 9   number_of_dependences                  21989 non-null  float64\n",
      " 10  number_of_dependences (male)           21897 non-null  float64\n",
      " 11  number_of_dependences (female)         21926 non-null  float64\n",
      " 12  GPA                                    18464 non-null  float64\n",
      " 13  job_duration_as_permanent_worker       19427 non-null  float64\n",
      " 14  job_duration_from_training             21420 non-null  float64\n",
      " 15  branch_rotation                        21335 non-null  float64\n",
      " 16  job_rotation                           21569 non-null  float64\n",
      " 17  assign_of_otherposition                21466 non-null  float64\n",
      " 18  annual leave                           21800 non-null  float64\n",
      " 19  sick_leaves                            21737 non-null  float64\n",
      " 20  Best Performance                       22005 non-null  float64\n",
      " 21  Avg_achievement_%                      15716 non-null  float64\n",
      " 22  Last_achievement_%                     15703 non-null  float64\n",
      " 23  Achievement_above_100%_during3quartal  15703 non-null  float64\n",
      " 24  achievement_target_1                   15100 non-null  float64\n",
      " 25  achievement_target_2                   15102 non-null  float64\n",
      " 26  achievement_target_3                   22005 non-null  float64\n",
      " 27  current_age                            21517 non-null  float64\n",
      " 28  years_graduated                        17899 non-null  float64\n",
      " 29  education_level                        21500 non-null  float64\n",
      "dtypes: float64(26), object(4)\n",
      "memory usage: 5.0+ MB\n",
      "cek perubahan setelah main outlier None None\n"
     ]
    }
   ],
   "source": [
    "print('cek perubahan setelah main outlier',train_raw.info(),train.info())"
   ]
  },
  {
   "cell_type": "markdown",
   "metadata": {},
   "source": [
    "save dataset sampe checkpoint ngilangin outlier"
   ]
  },
  {
   "cell_type": "code",
   "execution_count": 370,
   "metadata": {
    "ExecuteTime": {
     "end_time": "2020-12-25T03:10:31.170943Z",
     "start_time": "2020-12-25T03:10:30.523811Z"
    }
   },
   "outputs": [],
   "source": [
    "train.to_csv('train_setelah_buang_outlier.csv')"
   ]
  },
  {
   "cell_type": "markdown",
   "metadata": {},
   "source": [
    "#### Dtype modification **binary and 1 hot**\n",
    "sisa 4 kategorikal yang masi dalam bentuk objek, ubah.\n",
    "\n",
    "employee type 1hot, employee status binary, gender binary, marital_status_married(Y/N) binary, achievement target 3 binary"
   ]
  },
  {
   "cell_type": "code",
   "execution_count": 371,
   "metadata": {
    "ExecuteTime": {
     "end_time": "2020-12-25T03:10:31.192257Z",
     "start_time": "2020-12-25T03:10:31.173130Z"
    }
   },
   "outputs": [],
   "source": [
    "def biner(df,col):\n",
    "    for c in col:\n",
    "        df[c] = LabelEncoder().fit_transform(df[c])\n",
    "        \n",
    "biner(train,['Employee_status','gender','marital_status_maried(Y/N)'])"
   ]
  },
  {
   "cell_type": "code",
   "execution_count": 372,
   "metadata": {
    "ExecuteTime": {
     "end_time": "2020-12-25T03:10:31.225199Z",
     "start_time": "2020-12-25T03:10:31.195247Z"
    }
   },
   "outputs": [
    {
     "name": "stdout",
     "output_type": "stream",
     "text": [
      "0\n"
     ]
    }
   ],
   "source": [
    "#1hotting every column with object dtype left\n",
    "def onehot(df_list,col): #list form\n",
    "    df_list_1h=[]\n",
    "    for df in df_list:\n",
    "#         df_obj=df.select_dtypes('object')\n",
    "        for c in range(len(col)):\n",
    "#             label_df = pd.DataFrame(df[col[c]], columns=[col[c]])\n",
    "            print(c)\n",
    "            dum_df = pd.get_dummies(df[col[c]], columns=[col[c]], prefix=col[c])\n",
    "            df=df.join(dum_df)\n",
    "            df=df.drop(col[c], axis=1)\n",
    "        df_list_1h.append(df)\n",
    "        \n",
    "    return df_list_1h\n",
    "        \n",
    "col=train.select_dtypes('object').columns\n",
    "train,=onehot([train],col)"
   ]
  },
  {
   "cell_type": "markdown",
   "metadata": {
    "ExecuteTime": {
     "end_time": "2020-12-22T20:37:44.245546Z",
     "start_time": "2020-12-22T20:37:44.239562Z"
    }
   },
   "source": [
    "#### NaNs management\n"
   ]
  },
  {
   "cell_type": "code",
   "execution_count": null,
   "metadata": {},
   "outputs": [],
   "source": []
  },
  {
   "cell_type": "code",
   "execution_count": null,
   "metadata": {},
   "outputs": [],
   "source": []
  },
  {
   "cell_type": "markdown",
   "metadata": {},
   "source": [
    "#### saving processed dataset"
   ]
  },
  {
   "cell_type": "code",
   "execution_count": null,
   "metadata": {},
   "outputs": [],
   "source": []
  },
  {
   "cell_type": "markdown",
   "metadata": {},
   "source": [
    "#### test"
   ]
  },
  {
   "cell_type": "code",
   "execution_count": 373,
   "metadata": {
    "ExecuteTime": {
     "end_time": "2020-12-25T03:10:31.850291Z",
     "start_time": "2020-12-25T03:10:31.838325Z"
    }
   },
   "outputs": [],
   "source": [
    "a=[2,3,4,5]\n",
    "q=[1]"
   ]
  },
  {
   "cell_type": "code",
   "execution_count": 374,
   "metadata": {
    "ExecuteTime": {
     "end_time": "2020-12-25T03:10:32.346473Z",
     "start_time": "2020-12-25T03:10:32.340489Z"
    }
   },
   "outputs": [],
   "source": [
    "b,c,d,e=a"
   ]
  },
  {
   "cell_type": "code",
   "execution_count": 375,
   "metadata": {
    "ExecuteTime": {
     "end_time": "2020-12-25T03:10:32.867911Z",
     "start_time": "2020-12-25T03:10:32.858891Z"
    }
   },
   "outputs": [],
   "source": [
    "z,=q\n",
    "zl=q"
   ]
  },
  {
   "cell_type": "code",
   "execution_count": 376,
   "metadata": {
    "ExecuteTime": {
     "end_time": "2020-12-25T03:10:33.184961Z",
     "start_time": "2020-12-25T03:10:33.174000Z"
    }
   },
   "outputs": [
    {
     "data": {
      "text/plain": [
       "(1, [1])"
      ]
     },
     "execution_count": 376,
     "metadata": {},
     "output_type": "execute_result"
    }
   ],
   "source": [
    "z,zl"
   ]
  }
 ],
 "metadata": {
  "colab": {
   "collapsed_sections": [],
   "name": "cro_awin.ipynb",
   "provenance": []
  },
  "kernelspec": {
   "display_name": "Python 3",
   "language": "python",
   "name": "python3"
  },
  "language_info": {
   "codemirror_mode": {
    "name": "ipython",
    "version": 3
   },
   "file_extension": ".py",
   "mimetype": "text/x-python",
   "name": "python",
   "nbconvert_exporter": "python",
   "pygments_lexer": "ipython3",
   "version": "3.8.3"
  }
 },
 "nbformat": 4,
 "nbformat_minor": 1
}
