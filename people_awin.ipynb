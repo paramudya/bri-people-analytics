{
 "cells": [
  {
   "cell_type": "markdown",
   "metadata": {
    "id": "DGhi0NcQJzrK"
   },
   "source": [
    "#### setup colab"
   ]
  },
  {
   "cell_type": "code",
   "execution_count": 2,
   "metadata": {
    "colab": {
     "base_uri": "https://localhost:8080/"
    },
    "id": "xqJOg1qEJKWb",
    "outputId": "71277c54-e1ce-49b7-fc02-bac2888d2489"
   },
   "outputs": [
    {
     "name": "stdout",
     "output_type": "stream",
     "text": [
      "Mounted at /content/drive/\n",
      "/content/drive/My Drive/people\n"
     ]
    }
   ],
   "source": [
    "from google.colab import drive\n",
    "drive.mount('/content/drive/')\n",
    "%cd '/content/drive/My Drive/people'"
   ]
  },
  {
   "cell_type": "markdown",
   "metadata": {},
   "source": [
    "#### imports"
   ]
  },
  {
   "cell_type": "code",
   "execution_count": 1,
   "metadata": {
    "ExecuteTime": {
     "end_time": "2020-12-29T04:11:26.146520Z",
     "start_time": "2020-12-29T04:10:58.661008Z"
    },
    "id": "C2MeIWicN1tw"
   },
   "outputs": [],
   "source": [
    "import pandas as pd\n",
    "from scipy import stats\n",
    "import numpy as np\n",
    "\n",
    "from sklearn.preprocessing import LabelEncoder\n",
    "from sklearn import preprocessing\n",
    "from sklearn.pipeline import Pipeline\n",
    "\n",
    "from sklearn.utils import resample\n",
    "from sklearn.model_selection import train_test_split as split\n",
    "from sklearn.model_selection import GridSearchCV\n",
    "from sklearn.pipeline import Pipeline\n",
    "from sklearn.model_selection import StratifiedKFold\n",
    "from sklearn.naive_bayes import GaussianNB\n",
    "from sklearn.ensemble import RandomForestClassifier\n",
    "from sklearn.linear_model import LogisticRegression\n",
    "\n",
    "from sklearn.metrics import accuracy_score\n",
    "from sklearn.metrics import classification_report\n",
    "from sklearn.metrics import confusion_matrix\n",
    "\n",
    "from sklearn.metrics import precision_score\n",
    "from sklearn.metrics import recall_score\n",
    "from sklearn.metrics import f1_score\n",
    "\n",
    "from tqdm import tqdm\n",
    "import time\n",
    "import matplotlib.pyplot as plt"
   ]
  },
  {
   "cell_type": "markdown",
   "metadata": {
    "id": "zWLNztgYKRSJ"
   },
   "source": [
    "#### load raw"
   ]
  },
  {
   "cell_type": "code",
   "execution_count": 2,
   "metadata": {
    "ExecuteTime": {
     "end_time": "2020-12-29T04:11:26.363741Z",
     "start_time": "2020-12-29T04:11:26.152503Z"
    },
    "id": "00HrViKuKVNI"
   },
   "outputs": [],
   "source": [
    "test=pd.read_csv(\"test.csv\");train=pd.read_csv(\"train.csv\");train_raw=train.copy();test_raw=test.copy()"
   ]
  },
  {
   "cell_type": "markdown",
   "metadata": {
    "id": "DiTcyNGvO3xD"
   },
   "source": [
    "# preprocessing"
   ]
  },
  {
   "cell_type": "code",
   "execution_count": null,
   "metadata": {
    "ExecuteTime": {
     "end_time": "2020-12-29T00:19:03.286276Z",
     "start_time": "2020-12-29T00:19:03.263340Z"
    }
   },
   "outputs": [],
   "source": []
  },
  {
   "cell_type": "markdown",
   "metadata": {
    "id": "iJjMqCbzvLk9"
   },
   "source": [
    "#### data points modification\n",
    "job_level, person_level,age, Education_level, year_graduated, achievement_target_1(2&3)\n",
    "- (may need info on which year is this data taken from)\n",
    "- info from each columns"
   ]
  },
  {
   "cell_type": "markdown",
   "metadata": {},
   "source": [
    "penyesuaian nilai angka **age** (current_age), **year_graduated** (years_graduated)\n",
    "\n",
    "mengubah Dtype year_graduated sekaligus nilai yg tidak sesuai menjadi NaN"
   ]
  },
  {
   "cell_type": "code",
   "execution_count": 3,
   "metadata": {
    "ExecuteTime": {
     "end_time": "2020-12-29T04:11:26.702251Z",
     "start_time": "2020-12-29T04:11:26.365576Z"
    }
   },
   "outputs": [],
   "source": [
    "train['year_graduated']=pd.to_numeric(train['year_graduated'], errors='coerce', downcast ='integer')\n",
    "# train['year_graduated'].astype('int32') #cannot convert NA or inf to integer\n",
    "# keduanya dengan asumsi ini tahun 2019\n",
    "tahun_skrg=2019\n",
    "\n",
    "train['current_age']=tahun_skrg-train['age']\n",
    "train['years_graduated']=tahun_skrg-train['year_graduated']\n",
    "train.drop(['age','year_graduated','Education_level'],axis=1,inplace=True)"
   ]
  },
  {
   "cell_type": "markdown",
   "metadata": {
    "ExecuteTime": {
     "end_time": "2020-12-25T01:18:05.168128Z",
     "start_time": "2020-12-25T01:18:05.163177Z"
    }
   },
   "source": [
    " penghapusan sebagian karakter untuk dijadikan bentuk ordinal: **job_level**, **person_level**, dan , **education_level**"
   ]
  },
  {
   "cell_type": "code",
   "execution_count": 4,
   "metadata": {
    "ExecuteTime": {
     "end_time": "2020-12-29T04:11:26.826043Z",
     "start_time": "2020-12-29T04:11:26.708215Z"
    }
   },
   "outputs": [],
   "source": [
    "train['job_level']=train['job_level'].str.lstrip('JG0')\n",
    "train['person_level']=train['person_level'].str.lstrip('PG0')\n",
    "train['education_level']=train['person_level'].str.lstrip('level_')\n",
    "\n",
    "train['job_level']=pd.to_numeric(train['job_level'], errors='raise')\n",
    "train['person_level']=pd.to_numeric(train['person_level'], errors='raise')\n",
    "train['education_level']=pd.to_numeric(train['education_level'], errors='raise')"
   ]
  },
  {
   "cell_type": "markdown",
   "metadata": {
    "ExecuteTime": {
     "end_time": "2020-12-25T01:53:10.495012Z",
     "start_time": "2020-12-25T01:53:10.491022Z"
    }
   },
   "source": [
    "**achievement_target_1** & **achievement_target_2** diolah lebih lanjut"
   ]
  },
  {
   "cell_type": "code",
   "execution_count": 5,
   "metadata": {
    "ExecuteTime": {
     "end_time": "2020-12-29T04:11:26.924295Z",
     "start_time": "2020-12-29T04:11:26.827860Z"
    }
   },
   "outputs": [],
   "source": [
    "targets=['achievement_target_1','achievement_target_2']\n",
    "for target in targets:\n",
    "    train.loc[(train[target] == 'achiev_< 50%' )|( train[target] == 'Pencapaian < 50%'), target] = 1\n",
    "    train.loc[(train[target] == 'achiev_50%-100%' )|( train[target] == 'Pencapaian 50%-100%'), target] = 2\n",
    "    train.loc[(train[target] == 'achiev_100%-150%' )|( train[target] == 'Pencapaian 100%-150%'), target] = 3\n",
    "    train.loc[(train[target] == 'achiev_> 1.5' )|( train[target] == 'Pencapaian > 1.5'), target] = 4\n",
    "#     train.loc[train[target] == 'Tidak diberikan target', target] = float('NaN')\n",
    "\n",
    "    train[target]=pd.to_numeric(train[target], errors='coerce') #NaN given here\n",
    "    \n",
    "train['achievement_target_3'] = train['achievement_target_3'].apply(lambda x: 1 if x == 'reached' else 0)\n",
    "#dibikin binernya ditentukan karena 'penting' (kayanya) untuk penentuan 0 dan 1-nya sesuai"
   ]
  },
  {
   "cell_type": "markdown",
   "metadata": {},
   "source": [
    "buat **<font color='green'>test</font>**\n"
   ]
  },
  {
   "cell_type": "code",
   "execution_count": 6,
   "metadata": {
    "ExecuteTime": {
     "end_time": "2020-12-29T04:11:27.000082Z",
     "start_time": "2020-12-29T04:11:26.926132Z"
    }
   },
   "outputs": [],
   "source": [
    "test['year_graduated']=pd.to_numeric(test['year_graduated'], errors='coerce', downcast ='integer')\n",
    "\n",
    "test['current_age']=tahun_skrg-test['age'] #asumsi tahun 2019 sekarang\n",
    "test['years_graduated']=tahun_skrg-test['year_graduated']\n",
    "test.drop(['age','year_graduated','Education_level'],axis=1,inplace=True)\n",
    "\n",
    "test['job_level']=test['job_level'].str.lstrip('JG0')\n",
    "test['person_level']=test['person_level'].str.lstrip('PG0')\n",
    "test['education_level']=test['person_level'].str.lstrip('level_')\n",
    "\n",
    "test['job_level']=pd.to_numeric(test['job_level'], errors='raise')\n",
    "test['person_level']=pd.to_numeric(test['person_level'], errors='raise')\n",
    "test['education_level']=pd.to_numeric(test['education_level'], errors='raise')\n",
    "\n",
    "targets=['achievement_target_1','achievement_target_2']\n",
    "for target in targets:\n",
    "    test.loc[(test[target] == 'achiev_< 50%' )|( test[target] == 'Pencapaian < 50%'), target] = 1\n",
    "    test.loc[(test[target] == 'achiev_50%-100%' )|( test[target] == 'Pencapaian 50%-100%'), target] = 2\n",
    "    test.loc[(test[target] == 'achiev_100%-150%' )|( test[target] == 'Pencapaian 100%-150%'), target] = 3\n",
    "    test.loc[(test[target] == 'achiev_> 1.5' )|( test[target] == 'Pencapaian > 1.5'), target] = 4\n",
    "#     test.loc[test[target] == 'Tidak diberikan target', target] = float('NaN')\n",
    "\n",
    "    test[target]=pd.to_numeric(test[target], errors='coerce') #NaN given here\n",
    "    \n",
    "test['achievement_target_3'] = test['achievement_target_3'].apply(lambda x: 1 if x == 'reached' else 0)\n",
    "#dibikin binernya ditentukan karena 'penting' (kayanya) untuk penentuan 0 dan 1-nya sesuai"
   ]
  },
  {
   "cell_type": "markdown",
   "metadata": {},
   "source": [
    "#### outliers management\n",
    "fiturnya banyak, jadi sayang bgt kalo gara2 1 fitur ada outlier lgsg dibuang\n",
    "outlier ada di: yg dtypenya int dan float\n"
   ]
  },
  {
   "cell_type": "code",
   "execution_count": 7,
   "metadata": {
    "ExecuteTime": {
     "end_time": "2020-12-29T04:11:27.672862Z",
     "start_time": "2020-12-29T04:11:27.001928Z"
    },
    "scrolled": false
   },
   "outputs": [],
   "source": [
    "angka_columns = train.loc[:, (train.dtypes == np.float64)|(train.dtypes == np.int64)].columns\n",
    "                        \n",
    "#ubah semua outliers jadi NaN (untuk nanti diubah jadi mean??)                        \n",
    "for col in angka_columns:\n",
    "    z =     np.abs((train[col] - train[col].mean())/train[col].std(ddof=0))\n",
    "    #print(z,col)\n",
    "    train.loc[z > 3, col] = float('NaN')"
   ]
  },
  {
   "cell_type": "markdown",
   "metadata": {},
   "source": [
    "buat **<font color='green'>test</font>**\n"
   ]
  },
  {
   "cell_type": "code",
   "execution_count": 8,
   "metadata": {
    "ExecuteTime": {
     "end_time": "2020-12-29T04:11:27.798668Z",
     "start_time": "2020-12-29T04:11:27.677814Z"
    }
   },
   "outputs": [],
   "source": [
    "angka_columns = test.loc[:, (test.dtypes == np.float64)|(test.dtypes == np.int64)].columns\n",
    "                        \n",
    "#ubah semua outliers jadi NaN (untuk nanti diubah jadi mean??)                        \n",
    "for col in angka_columns:\n",
    "    z =     np.abs((test[col] - test[col].mean())/test[col].std(ddof=0))\n",
    "    #print(z,col)\n",
    "    test.loc[z > 3, col] = float('NaN')"
   ]
  },
  {
   "cell_type": "code",
   "execution_count": 9,
   "metadata": {
    "ExecuteTime": {
     "end_time": "2020-12-29T04:11:27.804473Z",
     "start_time": "2020-12-29T04:11:27.800486Z"
    }
   },
   "outputs": [],
   "source": [
    "# print('cek perubahan setelah main outlier',train_raw.info(),train.info())"
   ]
  },
  {
   "cell_type": "markdown",
   "metadata": {},
   "source": [
    "save dataset sampe checkpoint ngilangin outlier"
   ]
  },
  {
   "cell_type": "code",
   "execution_count": 10,
   "metadata": {
    "ExecuteTime": {
     "end_time": "2020-12-29T04:11:28.468222Z",
     "start_time": "2020-12-29T04:11:27.806469Z"
    }
   },
   "outputs": [],
   "source": [
    "train.to_csv('train_setelah_buang_outlier.csv')"
   ]
  },
  {
   "cell_type": "markdown",
   "metadata": {},
   "source": [
    "#### Dtype modification **binary and 1 hot**\n",
    "sisa 4 kategorikal yang masi dalam bentuk objek, ubah.\n",
    "\n",
    "employee type 1hot, employee status binary, gender binary, marital_status_married(Y/N) binary, achievement target 3 binary"
   ]
  },
  {
   "cell_type": "code",
   "execution_count": 11,
   "metadata": {
    "ExecuteTime": {
     "end_time": "2020-12-29T04:11:28.489011Z",
     "start_time": "2020-12-29T04:11:28.470028Z"
    }
   },
   "outputs": [],
   "source": [
    "def biner(df,col):\n",
    "    for c in col:\n",
    "        df[c] = LabelEncoder().fit_transform(df[c])\n",
    "        \n",
    "biner(train,['Employee_status','gender','marital_status_maried(Y/N)'])"
   ]
  },
  {
   "cell_type": "markdown",
   "metadata": {},
   "source": [
    "buat **<font color='green'>test</font>**\n"
   ]
  },
  {
   "cell_type": "code",
   "execution_count": 12,
   "metadata": {
    "ExecuteTime": {
     "end_time": "2020-12-29T04:11:28.508956Z",
     "start_time": "2020-12-29T04:11:28.490009Z"
    }
   },
   "outputs": [],
   "source": [
    "biner(test,['Employee_status','gender','marital_status_maried(Y/N)'])"
   ]
  },
  {
   "cell_type": "code",
   "execution_count": 13,
   "metadata": {
    "ExecuteTime": {
     "end_time": "2020-12-29T04:11:28.601990Z",
     "start_time": "2020-12-29T04:11:28.510919Z"
    }
   },
   "outputs": [],
   "source": [
    "#1hotting every column with object dtype left\n",
    "def onehot(df_list,col): #list form\n",
    "    df_list_1h=[]\n",
    "    for df in df_list:\n",
    "#         df_obj=df.select_dtypes('object')\n",
    "        for c in range(len(col)):\n",
    "#             label_df = pd.DataFrame(df[col[c]], columns=[col[c]])\n",
    "            dum_df = pd.get_dummies(df[col[c]], columns=[col[c]], prefix=col[c])\n",
    "            df=df.join(dum_df)\n",
    "            df=df.drop(col[c], axis=1)\n",
    "        df_list_1h.append(df)\n",
    "        \n",
    "    return df_list_1h\n",
    "        \n",
    "col=train.select_dtypes('object').columns\n",
    "\n",
    "train,=onehot([train],col)"
   ]
  },
  {
   "cell_type": "markdown",
   "metadata": {},
   "source": [
    "buat **<font color='green'>test</font>**\n"
   ]
  },
  {
   "cell_type": "code",
   "execution_count": 14,
   "metadata": {
    "ExecuteTime": {
     "end_time": "2020-12-29T04:11:28.620925Z",
     "start_time": "2020-12-29T04:11:28.605001Z"
    }
   },
   "outputs": [],
   "source": [
    "test,=onehot([test],col)"
   ]
  },
  {
   "cell_type": "code",
   "execution_count": 15,
   "metadata": {
    "ExecuteTime": {
     "end_time": "2020-12-29T04:11:28.627906Z",
     "start_time": "2020-12-29T04:11:28.622919Z"
    }
   },
   "outputs": [],
   "source": [
    "# train.info()"
   ]
  },
  {
   "cell_type": "markdown",
   "metadata": {
    "ExecuteTime": {
     "end_time": "2020-12-22T20:37:44.245546Z",
     "start_time": "2020-12-22T20:37:44.239562Z"
    }
   },
   "source": [
    "#### NaNs management\n"
   ]
  },
  {
   "cell_type": "code",
   "execution_count": 16,
   "metadata": {
    "ExecuteTime": {
     "end_time": "2020-12-29T04:11:28.635884Z",
     "start_time": "2020-12-29T04:11:28.630898Z"
    }
   },
   "outputs": [],
   "source": [
    "# train.mean()"
   ]
  },
  {
   "cell_type": "code",
   "execution_count": 17,
   "metadata": {
    "ExecuteTime": {
     "end_time": "2020-12-29T04:11:28.662829Z",
     "start_time": "2020-12-29T04:11:28.638877Z"
    },
    "scrolled": true
   },
   "outputs": [],
   "source": [
    "train.fillna(train.mean(),inplace=True)"
   ]
  },
  {
   "cell_type": "markdown",
   "metadata": {},
   "source": [
    "buat **<font color='green'>test</font>**\n"
   ]
  },
  {
   "cell_type": "code",
   "execution_count": 18,
   "metadata": {
    "ExecuteTime": {
     "end_time": "2020-12-29T04:11:28.676775Z",
     "start_time": "2020-12-29T04:11:28.664841Z"
    }
   },
   "outputs": [],
   "source": [
    "test.fillna(test.mean(),inplace=True)"
   ]
  },
  {
   "cell_type": "code",
   "execution_count": 19,
   "metadata": {
    "ExecuteTime": {
     "end_time": "2020-12-29T04:11:28.697754Z",
     "start_time": "2020-12-29T04:11:28.678769Z"
    }
   },
   "outputs": [
    {
     "name": "stdout",
     "output_type": "stream",
     "text": [
      "<class 'pandas.core.frame.DataFrame'>\n",
      "RangeIndex: 22005 entries, 0 to 22004\n",
      "Data columns (total 32 columns):\n",
      " #   Column                                 Non-Null Count  Dtype  \n",
      "---  ------                                 --------------  -----  \n",
      " 0   job_level                              22005 non-null  float64\n",
      " 1   job_duration_in_current_job_level      22005 non-null  float64\n",
      " 2   person_level                           22005 non-null  float64\n",
      " 3   job_duration_in_current_person_level   22005 non-null  float64\n",
      " 4   job_duration_in_current_branch         22005 non-null  float64\n",
      " 5   Employee_status                        22005 non-null  int32  \n",
      " 6   gender                                 22005 non-null  int32  \n",
      " 7   marital_status_maried(Y/N)             22005 non-null  int32  \n",
      " 8   number_of_dependences                  22005 non-null  float64\n",
      " 9   number_of_dependences (male)           22005 non-null  float64\n",
      " 10  number_of_dependences (female)         22005 non-null  float64\n",
      " 11  GPA                                    22005 non-null  float64\n",
      " 12  job_duration_as_permanent_worker       22005 non-null  float64\n",
      " 13  job_duration_from_training             22005 non-null  float64\n",
      " 14  branch_rotation                        22005 non-null  float64\n",
      " 15  job_rotation                           22005 non-null  float64\n",
      " 16  assign_of_otherposition                22005 non-null  float64\n",
      " 17  annual leave                           22005 non-null  float64\n",
      " 18  sick_leaves                            22005 non-null  float64\n",
      " 19  Best Performance                       22005 non-null  float64\n",
      " 20  Avg_achievement_%                      22005 non-null  float64\n",
      " 21  Last_achievement_%                     22005 non-null  float64\n",
      " 22  Achievement_above_100%_during3quartal  22005 non-null  float64\n",
      " 23  achievement_target_1                   22005 non-null  float64\n",
      " 24  achievement_target_2                   22005 non-null  float64\n",
      " 25  achievement_target_3                   22005 non-null  float64\n",
      " 26  current_age                            22005 non-null  float64\n",
      " 27  years_graduated                        22005 non-null  float64\n",
      " 28  education_level                        22005 non-null  float64\n",
      " 29  Employee_type_RM_type_A                22005 non-null  uint8  \n",
      " 30  Employee_type_RM_type_B                22005 non-null  uint8  \n",
      " 31  Employee_type_RM_type_C                22005 non-null  uint8  \n",
      "dtypes: float64(26), int32(3), uint8(3)\n",
      "memory usage: 4.7 MB\n"
     ]
    }
   ],
   "source": [
    "train.info()"
   ]
  },
  {
   "cell_type": "markdown",
   "metadata": {},
   "source": [
    "#### balancing training data"
   ]
  },
  {
   "cell_type": "code",
   "execution_count": null,
   "metadata": {},
   "outputs": [],
   "source": []
  },
  {
   "cell_type": "markdown",
   "metadata": {},
   "source": [
    "#### pemecahan jadi validasi dan feature/target"
   ]
  },
  {
   "cell_type": "code",
   "execution_count": 20,
   "metadata": {
    "ExecuteTime": {
     "end_time": "2020-12-29T04:11:28.719660Z",
     "start_time": "2020-12-29T04:11:28.699738Z"
    }
   },
   "outputs": [],
   "source": [
    "X_train = train.drop('Best Performance', axis=1)\n",
    "y_train = train['Best Performance']\n",
    "\n",
    "X_train, X_val, y_train, y_val = split(\n",
    "                X_train, y_train, test_size=0.2, random_state=133)"
   ]
  },
  {
   "cell_type": "markdown",
   "metadata": {},
   "source": [
    "#### scaling"
   ]
  },
  {
   "cell_type": "code",
   "execution_count": 21,
   "metadata": {
    "ExecuteTime": {
     "end_time": "2020-12-29T04:11:28.746590Z",
     "start_time": "2020-12-29T04:11:28.720657Z"
    }
   },
   "outputs": [],
   "source": [
    "scaler = preprocessing.StandardScaler().fit(X_train)"
   ]
  },
  {
   "cell_type": "markdown",
   "metadata": {},
   "source": [
    "#### saving processed dataset"
   ]
  },
  {
   "cell_type": "code",
   "execution_count": 22,
   "metadata": {
    "ExecuteTime": {
     "end_time": "2020-12-29T04:11:29.616261Z",
     "start_time": "2020-12-29T04:11:28.748583Z"
    }
   },
   "outputs": [],
   "source": [
    "train.to_csv('train_preprocessed_201229.csv')\n",
    "test.to_csv('test_preprocessed_201229.csv')"
   ]
  },
  {
   "cell_type": "markdown",
   "metadata": {},
   "source": [
    "# exploratory"
   ]
  },
  {
   "cell_type": "markdown",
   "metadata": {},
   "source": [
    "#### IV"
   ]
  },
  {
   "cell_type": "code",
   "execution_count": 23,
   "metadata": {
    "ExecuteTime": {
     "end_time": "2020-12-29T04:12:33.856230Z",
     "start_time": "2020-12-29T04:11:29.621249Z"
    }
   },
   "outputs": [
    {
     "name": "stderr",
     "output_type": "stream",
     "text": [
      "100%|██████████████████████████████████████████████████████████████████████████████████| 31/31 [01:03<00:00,  2.06s/it]\n"
     ]
    }
   ],
   "source": [
    "X_cols = [i for i in train.columns if i != 'Best Performance']\n",
    "train_set_woe = train.copy()\n",
    "bin_names = []\n",
    "woe = []\n",
    "iv = []\n",
    "\n",
    "for i in tqdm(X_cols): \n",
    "    var_name = str(i)\n",
    "    var_bins = var_name + '_bin'\n",
    "    bin_names.append(var_bins)\n",
    "\n",
    "    train_set_woe[var_bins] = pd.qcut(train[i], q=4, duplicates='drop')\n",
    "\n",
    "    index = train_set_woe.groupby(var_bins).count().index\n",
    "    count = train_set_woe.groupby(var_bins).count()['Best Performance'].values\n",
    "    good = train_set_woe.groupby(var_bins).sum()['Best Performance'].values\n",
    "    bad = count - good\n",
    "\n",
    "    woe_temp = pd.DataFrame()\n",
    "    woe_temp['group'] = index\n",
    "    woe_temp['count'] = count\n",
    "    woe_temp['good'] = good\n",
    "    woe_temp['bad'] = bad\n",
    "    woe_temp['total_distri'] = woe_temp['count']/sum(woe_temp['count'])\n",
    "    woe_temp['good_distri'] = woe_temp['good']/sum(woe_temp['good'])\n",
    "    woe_temp['bad_distri'] = woe_temp['bad']/sum(woe_temp['bad'])\n",
    "    woe_temp['WOE'] = np.log(woe_temp['good_distri'] / woe_temp['bad_distri'])\n",
    "    woe_temp['WOE%'] = woe_temp['WOE'] * 100\n",
    "    \n",
    "    for j in range(len(woe_temp['group'])):\n",
    "        woe.append({'feature': var_bins, 'bin': woe_temp['group'][j], 'woe_val': woe_temp['WOE%'][j]})\n",
    "    \n",
    "    iv_val = sum((woe_temp['good_distri'] - woe_temp['bad_distri']) * woe_temp['WOE'])\n",
    "    iv.append({'feature': var_name, 'IV': iv_val})\n",
    "        \n",
    "iv = pd.DataFrame(iv)\n",
    "woe = pd.DataFrame(woe)"
   ]
  },
  {
   "cell_type": "code",
   "execution_count": 24,
   "metadata": {
    "ExecuteTime": {
     "end_time": "2020-12-29T04:12:33.907121Z",
     "start_time": "2020-12-29T04:12:33.861218Z"
    }
   },
   "outputs": [],
   "source": [
    "# iv.to_csv('iv.csv')\n",
    "# woe.to_csv('woe.csv')\n",
    "\n",
    "\n",
    "iv=pd.read_csv('iv.csv')\n",
    "woe=pd.read_csv('woe.csv')"
   ]
  },
  {
   "cell_type": "code",
   "execution_count": 25,
   "metadata": {
    "ExecuteTime": {
     "end_time": "2020-12-29T04:12:33.974909Z",
     "start_time": "2020-12-29T04:12:33.915066Z"
    }
   },
   "outputs": [
    {
     "data": {
      "text/html": [
       "<div>\n",
       "<style scoped>\n",
       "    .dataframe tbody tr th:only-of-type {\n",
       "        vertical-align: middle;\n",
       "    }\n",
       "\n",
       "    .dataframe tbody tr th {\n",
       "        vertical-align: top;\n",
       "    }\n",
       "\n",
       "    .dataframe thead th {\n",
       "        text-align: right;\n",
       "    }\n",
       "</style>\n",
       "<table border=\"1\" class=\"dataframe\">\n",
       "  <thead>\n",
       "    <tr style=\"text-align: right;\">\n",
       "      <th></th>\n",
       "      <th>Unnamed: 0</th>\n",
       "      <th>feature</th>\n",
       "      <th>IV</th>\n",
       "    </tr>\n",
       "  </thead>\n",
       "  <tbody>\n",
       "    <tr>\n",
       "      <th>0</th>\n",
       "      <td>3</td>\n",
       "      <td>job_duration_in_current_person_level</td>\n",
       "      <td>0.267324</td>\n",
       "    </tr>\n",
       "    <tr>\n",
       "      <th>1</th>\n",
       "      <td>13</td>\n",
       "      <td>job_duration_from_training</td>\n",
       "      <td>0.194185</td>\n",
       "    </tr>\n",
       "    <tr>\n",
       "      <th>2</th>\n",
       "      <td>1</td>\n",
       "      <td>job_duration_in_current_job_level</td>\n",
       "      <td>0.178257</td>\n",
       "    </tr>\n",
       "    <tr>\n",
       "      <th>3</th>\n",
       "      <td>22</td>\n",
       "      <td>achievement_target_1</td>\n",
       "      <td>0.176493</td>\n",
       "    </tr>\n",
       "    <tr>\n",
       "      <th>4</th>\n",
       "      <td>19</td>\n",
       "      <td>Avg_achievement_%</td>\n",
       "      <td>0.116796</td>\n",
       "    </tr>\n",
       "    <tr>\n",
       "      <th>5</th>\n",
       "      <td>20</td>\n",
       "      <td>Last_achievement_%</td>\n",
       "      <td>0.110995</td>\n",
       "    </tr>\n",
       "    <tr>\n",
       "      <th>6</th>\n",
       "      <td>4</td>\n",
       "      <td>job_duration_in_current_branch</td>\n",
       "      <td>0.109841</td>\n",
       "    </tr>\n",
       "    <tr>\n",
       "      <th>7</th>\n",
       "      <td>15</td>\n",
       "      <td>job_rotation</td>\n",
       "      <td>0.086368</td>\n",
       "    </tr>\n",
       "    <tr>\n",
       "      <th>8</th>\n",
       "      <td>14</td>\n",
       "      <td>branch_rotation</td>\n",
       "      <td>0.075467</td>\n",
       "    </tr>\n",
       "    <tr>\n",
       "      <th>9</th>\n",
       "      <td>25</td>\n",
       "      <td>current_age</td>\n",
       "      <td>0.069289</td>\n",
       "    </tr>\n",
       "    <tr>\n",
       "      <th>10</th>\n",
       "      <td>26</td>\n",
       "      <td>years_graduated</td>\n",
       "      <td>0.062338</td>\n",
       "    </tr>\n",
       "    <tr>\n",
       "      <th>11</th>\n",
       "      <td>12</td>\n",
       "      <td>job_duration_as_permanent_worker</td>\n",
       "      <td>0.053092</td>\n",
       "    </tr>\n",
       "    <tr>\n",
       "      <th>12</th>\n",
       "      <td>11</td>\n",
       "      <td>GPA</td>\n",
       "      <td>0.027792</td>\n",
       "    </tr>\n",
       "    <tr>\n",
       "      <th>13</th>\n",
       "      <td>8</td>\n",
       "      <td>number_of_dependences</td>\n",
       "      <td>0.021145</td>\n",
       "    </tr>\n",
       "    <tr>\n",
       "      <th>14</th>\n",
       "      <td>18</td>\n",
       "      <td>sick_leaves</td>\n",
       "      <td>0.017998</td>\n",
       "    </tr>\n",
       "    <tr>\n",
       "      <th>15</th>\n",
       "      <td>23</td>\n",
       "      <td>achievement_target_2</td>\n",
       "      <td>0.014341</td>\n",
       "    </tr>\n",
       "    <tr>\n",
       "      <th>16</th>\n",
       "      <td>21</td>\n",
       "      <td>Achievement_above_100%_during3quartal</td>\n",
       "      <td>0.013554</td>\n",
       "    </tr>\n",
       "    <tr>\n",
       "      <th>17</th>\n",
       "      <td>17</td>\n",
       "      <td>annual leave</td>\n",
       "      <td>0.012701</td>\n",
       "    </tr>\n",
       "    <tr>\n",
       "      <th>18</th>\n",
       "      <td>10</td>\n",
       "      <td>number_of_dependences (female)</td>\n",
       "      <td>0.004093</td>\n",
       "    </tr>\n",
       "    <tr>\n",
       "      <th>19</th>\n",
       "      <td>0</td>\n",
       "      <td>job_level</td>\n",
       "      <td>0.002785</td>\n",
       "    </tr>\n",
       "    <tr>\n",
       "      <th>20</th>\n",
       "      <td>9</td>\n",
       "      <td>number_of_dependences (male)</td>\n",
       "      <td>0.002712</td>\n",
       "    </tr>\n",
       "    <tr>\n",
       "      <th>21</th>\n",
       "      <td>2</td>\n",
       "      <td>person_level</td>\n",
       "      <td>0.001800</td>\n",
       "    </tr>\n",
       "    <tr>\n",
       "      <th>22</th>\n",
       "      <td>27</td>\n",
       "      <td>education_level</td>\n",
       "      <td>0.001800</td>\n",
       "    </tr>\n",
       "    <tr>\n",
       "      <th>23</th>\n",
       "      <td>16</td>\n",
       "      <td>assign_of_otherposition</td>\n",
       "      <td>0.000000</td>\n",
       "    </tr>\n",
       "    <tr>\n",
       "      <th>24</th>\n",
       "      <td>7</td>\n",
       "      <td>marital_status_maried(Y/N)</td>\n",
       "      <td>0.000000</td>\n",
       "    </tr>\n",
       "    <tr>\n",
       "      <th>25</th>\n",
       "      <td>6</td>\n",
       "      <td>gender</td>\n",
       "      <td>0.000000</td>\n",
       "    </tr>\n",
       "    <tr>\n",
       "      <th>26</th>\n",
       "      <td>24</td>\n",
       "      <td>achievement_target_3</td>\n",
       "      <td>0.000000</td>\n",
       "    </tr>\n",
       "    <tr>\n",
       "      <th>27</th>\n",
       "      <td>5</td>\n",
       "      <td>Employee_status</td>\n",
       "      <td>0.000000</td>\n",
       "    </tr>\n",
       "    <tr>\n",
       "      <th>28</th>\n",
       "      <td>28</td>\n",
       "      <td>Employee_type_RM_type_A</td>\n",
       "      <td>0.000000</td>\n",
       "    </tr>\n",
       "    <tr>\n",
       "      <th>29</th>\n",
       "      <td>29</td>\n",
       "      <td>Employee_type_RM_type_B</td>\n",
       "      <td>0.000000</td>\n",
       "    </tr>\n",
       "    <tr>\n",
       "      <th>30</th>\n",
       "      <td>30</td>\n",
       "      <td>Employee_type_RM_type_C</td>\n",
       "      <td>0.000000</td>\n",
       "    </tr>\n",
       "  </tbody>\n",
       "</table>\n",
       "</div>"
      ],
      "text/plain": [
       "    Unnamed: 0                                feature        IV\n",
       "0            3   job_duration_in_current_person_level  0.267324\n",
       "1           13             job_duration_from_training  0.194185\n",
       "2            1      job_duration_in_current_job_level  0.178257\n",
       "3           22                   achievement_target_1  0.176493\n",
       "4           19                      Avg_achievement_%  0.116796\n",
       "5           20                     Last_achievement_%  0.110995\n",
       "6            4         job_duration_in_current_branch  0.109841\n",
       "7           15                           job_rotation  0.086368\n",
       "8           14                        branch_rotation  0.075467\n",
       "9           25                            current_age  0.069289\n",
       "10          26                        years_graduated  0.062338\n",
       "11          12       job_duration_as_permanent_worker  0.053092\n",
       "12          11                                    GPA  0.027792\n",
       "13           8                  number_of_dependences  0.021145\n",
       "14          18                            sick_leaves  0.017998\n",
       "15          23                   achievement_target_2  0.014341\n",
       "16          21  Achievement_above_100%_during3quartal  0.013554\n",
       "17          17                           annual leave  0.012701\n",
       "18          10         number_of_dependences (female)  0.004093\n",
       "19           0                              job_level  0.002785\n",
       "20           9           number_of_dependences (male)  0.002712\n",
       "21           2                           person_level  0.001800\n",
       "22          27                        education_level  0.001800\n",
       "23          16                assign_of_otherposition  0.000000\n",
       "24           7             marital_status_maried(Y/N)  0.000000\n",
       "25           6                                 gender  0.000000\n",
       "26          24                   achievement_target_3  0.000000\n",
       "27           5                        Employee_status  0.000000\n",
       "28          28                Employee_type_RM_type_A  0.000000\n",
       "29          29                Employee_type_RM_type_B  0.000000\n",
       "30          30                Employee_type_RM_type_C  0.000000"
      ]
     },
     "execution_count": 25,
     "metadata": {},
     "output_type": "execute_result"
    }
   ],
   "source": [
    "iv = iv.sort_values('IV', ascending=False).reset_index(drop=True)\n",
    "iv"
   ]
  },
  {
   "cell_type": "code",
   "execution_count": 26,
   "metadata": {
    "ExecuteTime": {
     "end_time": "2020-12-29T04:12:33.992858Z",
     "start_time": "2020-12-29T04:12:33.977902Z"
    }
   },
   "outputs": [
    {
     "name": "stdout",
     "output_type": "stream",
     "text": [
      "Only the top 14 features are used for training and prediction as it is the only significant ones (more than 0.02 IV)\n",
      "\n",
      "to be used as features for training: \n",
      "['job_duration_in_current_person_level', 'job_duration_from_training', 'job_duration_in_current_job_level', 'achievement_target_1', 'Avg_achievement_%', 'Last_achievement_%', 'job_duration_in_current_branch', 'job_rotation', 'branch_rotation', 'current_age', 'years_graduated', 'job_duration_as_permanent_worker', 'GPA', 'number_of_dependences'] 14\n"
     ]
    }
   ],
   "source": [
    "\n",
    "features=[] \n",
    "for i in range(len(iv)):\n",
    "    if iv.IV[i]<0.02:\n",
    "        lower_limit_iv_i=i\n",
    "        break\n",
    "    features.append(iv.feature[i])\n",
    "\n",
    "print(\"Only the top \"+str(i)+\" features are used for training and prediction as it is the only significant ones (more than 0.02 IV)\")\n",
    "\n",
    "print('\\nto be used as features for training: \\n'+str(features ),len(features))\n",
    "\n"
   ]
  },
  {
   "cell_type": "code",
   "execution_count": 27,
   "metadata": {
    "ExecuteTime": {
     "end_time": "2020-12-29T04:12:34.007818Z",
     "start_time": "2020-12-29T04:12:33.997849Z"
    }
   },
   "outputs": [
    {
     "data": {
      "text/plain": [
       "['job_duration_in_current_person_level',\n",
       " 'job_duration_from_training',\n",
       " 'job_duration_in_current_job_level',\n",
       " 'achievement_target_1',\n",
       " 'Avg_achievement_%',\n",
       " 'Last_achievement_%',\n",
       " 'job_duration_in_current_branch',\n",
       " 'job_rotation',\n",
       " 'branch_rotation',\n",
       " 'current_age',\n",
       " 'years_graduated',\n",
       " 'job_duration_as_permanent_worker',\n",
       " 'GPA',\n",
       " 'number_of_dependences']"
      ]
     },
     "execution_count": 27,
     "metadata": {},
     "output_type": "execute_result"
    }
   ],
   "source": [
    "features"
   ]
  },
  {
   "cell_type": "markdown",
   "metadata": {},
   "source": [
    "selecting only features with high IV"
   ]
  },
  {
   "cell_type": "code",
   "execution_count": 28,
   "metadata": {
    "ExecuteTime": {
     "end_time": "2020-12-29T04:12:34.027769Z",
     "start_time": "2020-12-29T04:12:34.011811Z"
    }
   },
   "outputs": [],
   "source": [
    "test=test[features]\n",
    "features.append('Best Performance')\n",
    "train=train[features]"
   ]
  },
  {
   "cell_type": "markdown",
   "metadata": {},
   "source": [
    "visualisasi aja ini mah"
   ]
  },
  {
   "cell_type": "code",
   "execution_count": 29,
   "metadata": {
    "ExecuteTime": {
     "end_time": "2020-12-29T04:12:34.034745Z",
     "start_time": "2020-12-29T04:12:34.030759Z"
    }
   },
   "outputs": [],
   "source": [
    "# ivs=iv.iloc[:lower_limit_iv_i,:]"
   ]
  },
  {
   "cell_type": "code",
   "execution_count": 30,
   "metadata": {
    "ExecuteTime": {
     "end_time": "2020-12-29T04:12:34.547375Z",
     "start_time": "2020-12-29T04:12:34.037737Z"
    }
   },
   "outputs": [
    {
     "ename": "NameError",
     "evalue": "name 'ivs' is not defined",
     "output_type": "error",
     "traceback": [
      "\u001b[1;31m---------------------------------------------------------------------------\u001b[0m",
      "\u001b[1;31mNameError\u001b[0m                                 Traceback (most recent call last)",
      "\u001b[1;32m<ipython-input-30-0392c8050b27>\u001b[0m in \u001b[0;36m<module>\u001b[1;34m\u001b[0m\n\u001b[1;32m----> 1\u001b[1;33m \u001b[0miv\u001b[0m \u001b[1;33m=\u001b[0m \u001b[0mivs\u001b[0m\u001b[1;33m.\u001b[0m\u001b[0msort_values\u001b[0m\u001b[1;33m(\u001b[0m\u001b[1;34m'IV'\u001b[0m\u001b[1;33m,\u001b[0m \u001b[0mascending\u001b[0m\u001b[1;33m=\u001b[0m\u001b[1;32mFalse\u001b[0m\u001b[1;33m)\u001b[0m\u001b[1;33m.\u001b[0m\u001b[0mreset_index\u001b[0m\u001b[1;33m(\u001b[0m\u001b[0mdrop\u001b[0m\u001b[1;33m=\u001b[0m\u001b[1;32mTrue\u001b[0m\u001b[1;33m)\u001b[0m\u001b[1;33m\u001b[0m\u001b[1;33m\u001b[0m\u001b[0m\n\u001b[0m\u001b[0;32m      2\u001b[0m \u001b[0mcolor\u001b[0m \u001b[1;33m=\u001b[0m \u001b[1;33m[\u001b[0m\u001b[1;33m]\u001b[0m\u001b[1;33m\u001b[0m\u001b[1;33m\u001b[0m\u001b[0m\n\u001b[0;32m      3\u001b[0m \u001b[1;32mfor\u001b[0m \u001b[0mi\u001b[0m \u001b[1;32min\u001b[0m \u001b[0mrange\u001b[0m\u001b[1;33m(\u001b[0m\u001b[0mlen\u001b[0m\u001b[1;33m(\u001b[0m\u001b[0miv\u001b[0m\u001b[1;33m)\u001b[0m\u001b[1;33m)\u001b[0m\u001b[1;33m:\u001b[0m\u001b[1;33m\u001b[0m\u001b[1;33m\u001b[0m\u001b[0m\n\u001b[0;32m      4\u001b[0m     \u001b[1;32mif\u001b[0m \u001b[0miv\u001b[0m\u001b[1;33m[\u001b[0m\u001b[1;34m'IV'\u001b[0m\u001b[1;33m]\u001b[0m\u001b[1;33m[\u001b[0m\u001b[0mi\u001b[0m\u001b[1;33m]\u001b[0m \u001b[1;33m<\u001b[0m \u001b[1;36m0.0199\u001b[0m\u001b[1;33m:\u001b[0m\u001b[1;33m\u001b[0m\u001b[1;33m\u001b[0m\u001b[0m\n\u001b[0;32m      5\u001b[0m         \u001b[0mcolor\u001b[0m\u001b[1;33m.\u001b[0m\u001b[0mappend\u001b[0m\u001b[1;33m(\u001b[0m\u001b[1;34m'#850000'\u001b[0m\u001b[1;33m)\u001b[0m\u001b[1;33m\u001b[0m\u001b[1;33m\u001b[0m\u001b[0m\n",
      "\u001b[1;31mNameError\u001b[0m: name 'ivs' is not defined"
     ]
    }
   ],
   "source": [
    "iv = ivs.sort_values('IV', ascending=False).reset_index(drop=True)\n",
    "color = []\n",
    "for i in range(len(iv)):\n",
    "    if iv['IV'][i] < 0.0199:\n",
    "        color.append('#850000')\n",
    "    elif iv['IV'][i] < 0.1:\n",
    "        color.append('#CCBB3B')\n",
    "    elif iv['IV'][i] < 0.3:\n",
    "        color.append('#AF9500')\n",
    "    else:\n",
    "        color.append('#005841')\n",
    "        \n",
    "iv['color'] = color\n",
    "\n",
    "fig, ax = plt.subplots(figsize=(9,15))\n",
    "y_pos = np.arange(len(iv.feature))\n",
    "\n",
    "ax.barh(y_pos, iv.IV,color=color)\n",
    "ax.set_yticks(y_pos)\n",
    "ax.set_yticklabels(iv.feature)\n",
    "ax.invert_yaxis() \n",
    "ax.set_xlabel('Information Value')\n",
    "ax.set_title('Features Name with its Corresponding Information Value')\n",
    "\n",
    "for i, v in enumerate(iv.IV):\n",
    "    ax.text(v + 0.001, i + .2, str(round(v,3)), color='black', size=9)\n",
    "    \n",
    "plt.show()"
   ]
  },
  {
   "cell_type": "code",
   "execution_count": null,
   "metadata": {},
   "outputs": [],
   "source": []
  },
  {
   "cell_type": "code",
   "execution_count": null,
   "metadata": {},
   "outputs": [],
   "source": []
  },
  {
   "cell_type": "code",
   "execution_count": 30,
   "metadata": {
    "ExecuteTime": {
     "end_time": "2020-12-28T23:36:50.580172Z",
     "start_time": "2020-12-28T23:36:50.563208Z"
    },
    "scrolled": true
   },
   "outputs": [
    {
     "name": "stdout",
     "output_type": "stream",
     "text": [
      "0.0    15498\n",
      "1.0     2106\n",
      "Name: Best Performance, dtype: int64\n"
     ]
    }
   ],
   "source": [
    "print(y_train.value_counts())"
   ]
  },
  {
   "cell_type": "markdown",
   "metadata": {},
   "source": [
    "the target distribution is extremely **imbalanced**"
   ]
  },
  {
   "cell_type": "code",
   "execution_count": 33,
   "metadata": {
    "ExecuteTime": {
     "end_time": "2020-12-28T23:38:26.662903Z",
     "start_time": "2020-12-28T23:38:26.555192Z"
    }
   },
   "outputs": [
    {
     "data": {
      "image/png": "[encoded data removed]",
      "text/plain": [
       "<Figure size 720x288 with 1 Axes>"
      ]
     },
     "metadata": {},
     "output_type": "display_data"
    }
   ],
   "source": [
    "d=y_train.value_counts()[0],y_train.value_counts()[1]\n",
    "\n",
    "pie, ax = plt.subplots(figsize=[10,4])\n",
    "labels = ['0','1']\n",
    "plt.pie(x=d, autopct=\"%.1f%%\", explode=[0.05]*2,labels=labels, pctdistance=0.5)\n",
    "plt.title(\"target distribution\", fontsize=14);\n",
    "pie.savefig(\"DeliveryPieChart.png\")"
   ]
  },
  {
   "cell_type": "markdown",
   "metadata": {},
   "source": [
    "# modelling"
   ]
  },
  {
   "cell_type": "markdown",
   "metadata": {},
   "source": [
    "_pake yang bni_"
   ]
  },
  {
   "cell_type": "markdown",
   "metadata": {},
   "source": [
    "#### pipeline model lalu perbandingan"
   ]
  },
  {
   "cell_type": "code",
   "execution_count": 32,
   "metadata": {
    "ExecuteTime": {
     "end_time": "2020-12-29T04:13:48.835234Z",
     "start_time": "2020-12-29T04:13:29.939412Z"
    },
    "scrolled": true
   },
   "outputs": [
    {
     "name": "stdout",
     "output_type": "stream",
     "text": [
      "Fitting 5 folds for each of 3 candidates, totalling 15 fits\n"
     ]
    },
    {
     "name": "stderr",
     "output_type": "stream",
     "text": [
      "[Parallel(n_jobs=-1)]: Using backend LokyBackend with 8 concurrent workers.\n",
      "[Parallel(n_jobs=-1)]: Done  15 out of  15 | elapsed:   15.3s finished\n"
     ]
    },
    {
     "name": "stdout",
     "output_type": "stream",
     "text": [
      "total fitting time: 0.31 minute(s)\n",
      "Best model: {'clf': RandomForestClassifier()}\n"
     ]
    },
    {
     "data": {
      "text/html": [
       "<div>\n",
       "<style scoped>\n",
       "    .dataframe tbody tr th:only-of-type {\n",
       "        vertical-align: middle;\n",
       "    }\n",
       "\n",
       "    .dataframe tbody tr th {\n",
       "        vertical-align: top;\n",
       "    }\n",
       "\n",
       "    .dataframe thead th {\n",
       "        text-align: right;\n",
       "    }\n",
       "</style>\n",
       "<table border=\"1\" class=\"dataframe\">\n",
       "  <thead>\n",
       "    <tr style=\"text-align: right;\">\n",
       "      <th></th>\n",
       "      <th>mean_fit_time</th>\n",
       "      <th>std_fit_time</th>\n",
       "      <th>mean_score_time</th>\n",
       "      <th>std_score_time</th>\n",
       "      <th>param_clf</th>\n",
       "      <th>params</th>\n",
       "      <th>split0_test_accuracy</th>\n",
       "      <th>split1_test_accuracy</th>\n",
       "      <th>split2_test_accuracy</th>\n",
       "      <th>split3_test_accuracy</th>\n",
       "      <th>...</th>\n",
       "      <th>std_test_f1</th>\n",
       "      <th>rank_test_f1</th>\n",
       "      <th>split0_test_roc_auc</th>\n",
       "      <th>split1_test_roc_auc</th>\n",
       "      <th>split2_test_roc_auc</th>\n",
       "      <th>split3_test_roc_auc</th>\n",
       "      <th>split4_test_roc_auc</th>\n",
       "      <th>mean_test_roc_auc</th>\n",
       "      <th>std_test_roc_auc</th>\n",
       "      <th>rank_test_roc_auc</th>\n",
       "    </tr>\n",
       "  </thead>\n",
       "  <tbody>\n",
       "    <tr>\n",
       "      <th>0</th>\n",
       "      <td>0.061636</td>\n",
       "      <td>0.002631</td>\n",
       "      <td>0.059442</td>\n",
       "      <td>0.007740</td>\n",
       "      <td>GaussianNB()</td>\n",
       "      <td>{'clf': GaussianNB()}</td>\n",
       "      <td>0.262709</td>\n",
       "      <td>0.271230</td>\n",
       "      <td>0.262425</td>\n",
       "      <td>0.265550</td>\n",
       "      <td>...</td>\n",
       "      <td>0.001187</td>\n",
       "      <td>1</td>\n",
       "      <td>0.612536</td>\n",
       "      <td>0.575647</td>\n",
       "      <td>0.619953</td>\n",
       "      <td>0.590857</td>\n",
       "      <td>0.602719</td>\n",
       "      <td>0.600343</td>\n",
       "      <td>0.015740</td>\n",
       "      <td>3</td>\n",
       "    </tr>\n",
       "    <tr>\n",
       "      <th>1</th>\n",
       "      <td>6.368973</td>\n",
       "      <td>0.104197</td>\n",
       "      <td>0.496073</td>\n",
       "      <td>0.009824</td>\n",
       "      <td>RandomForestClassifier()</td>\n",
       "      <td>{'clf': RandomForestClassifier()}</td>\n",
       "      <td>0.879012</td>\n",
       "      <td>0.879864</td>\n",
       "      <td>0.879864</td>\n",
       "      <td>0.879580</td>\n",
       "      <td>...</td>\n",
       "      <td>0.003500</td>\n",
       "      <td>2</td>\n",
       "      <td>0.638082</td>\n",
       "      <td>0.616647</td>\n",
       "      <td>0.629531</td>\n",
       "      <td>0.635411</td>\n",
       "      <td>0.640581</td>\n",
       "      <td>0.632050</td>\n",
       "      <td>0.008533</td>\n",
       "      <td>1</td>\n",
       "    </tr>\n",
       "    <tr>\n",
       "      <th>2</th>\n",
       "      <td>7.516353</td>\n",
       "      <td>1.880636</td>\n",
       "      <td>0.019539</td>\n",
       "      <td>0.007105</td>\n",
       "      <td>LogisticRegression(max_iter=10000)</td>\n",
       "      <td>{'clf': LogisticRegression(max_iter=10000)}</td>\n",
       "      <td>0.880432</td>\n",
       "      <td>0.880432</td>\n",
       "      <td>0.880432</td>\n",
       "      <td>0.880148</td>\n",
       "      <td>...</td>\n",
       "      <td>0.000000</td>\n",
       "      <td>3</td>\n",
       "      <td>0.633826</td>\n",
       "      <td>0.599197</td>\n",
       "      <td>0.630349</td>\n",
       "      <td>0.612768</td>\n",
       "      <td>0.627767</td>\n",
       "      <td>0.620781</td>\n",
       "      <td>0.012966</td>\n",
       "      <td>2</td>\n",
       "    </tr>\n",
       "  </tbody>\n",
       "</table>\n",
       "<p>3 rows × 38 columns</p>\n",
       "</div>"
      ],
      "text/plain": [
       "   mean_fit_time  std_fit_time  mean_score_time  std_score_time  \\\n",
       "0       0.061636      0.002631         0.059442        0.007740   \n",
       "1       6.368973      0.104197         0.496073        0.009824   \n",
       "2       7.516353      1.880636         0.019539        0.007105   \n",
       "\n",
       "                            param_clf  \\\n",
       "0                        GaussianNB()   \n",
       "1            RandomForestClassifier()   \n",
       "2  LogisticRegression(max_iter=10000)   \n",
       "\n",
       "                                        params  split0_test_accuracy  \\\n",
       "0                        {'clf': GaussianNB()}              0.262709   \n",
       "1            {'clf': RandomForestClassifier()}              0.879012   \n",
       "2  {'clf': LogisticRegression(max_iter=10000)}              0.880432   \n",
       "\n",
       "   split1_test_accuracy  split2_test_accuracy  split3_test_accuracy  ...  \\\n",
       "0              0.271230              0.262425              0.265550  ...   \n",
       "1              0.879864              0.879864              0.879580  ...   \n",
       "2              0.880432              0.880432              0.880148  ...   \n",
       "\n",
       "   std_test_f1  rank_test_f1  split0_test_roc_auc  split1_test_roc_auc  \\\n",
       "0     0.001187             1             0.612536             0.575647   \n",
       "1     0.003500             2             0.638082             0.616647   \n",
       "2     0.000000             3             0.633826             0.599197   \n",
       "\n",
       "   split2_test_roc_auc  split3_test_roc_auc  split4_test_roc_auc  \\\n",
       "0             0.619953             0.590857             0.602719   \n",
       "1             0.629531             0.635411             0.640581   \n",
       "2             0.630349             0.612768             0.627767   \n",
       "\n",
       "   mean_test_roc_auc  std_test_roc_auc  rank_test_roc_auc  \n",
       "0           0.600343          0.015740                  3  \n",
       "1           0.632050          0.008533                  1  \n",
       "2           0.620781          0.012966                  2  \n",
       "\n",
       "[3 rows x 38 columns]"
      ]
     },
     "execution_count": 32,
     "metadata": {},
     "output_type": "execute_result"
    }
   ],
   "source": [
    "models = Pipeline([\n",
    "    ('clf', None), \n",
    "])\n",
    "\n",
    "search = GridSearchCV(\n",
    "    models, \n",
    "    cv=StratifiedKFold(n_splits=5, shuffle=True, random_state=21), \n",
    "    return_train_score=False, #in ver 0.21 hwever, default value was changed from True to False\n",
    "    scoring=['accuracy', 'recall', 'f1','roc_auc',],\n",
    "    refit = 'roc_auc', #because the model is extremely imbalanced\n",
    "    n_jobs = -1,\n",
    "    param_grid={\n",
    "        'clf': [GaussianNB(),RandomForestClassifier(),LogisticRegression(max_iter=10000)]}\n",
    "    ,verbose=1\n",
    ")\n",
    "\n",
    "start = time.time()\n",
    "search.fit(X_train, y_train)\n",
    "print('total fitting time:', round((time.time() - start)/60,2), 'minute(s)')\n",
    "best_model=search.best_estimator_\n",
    "\n",
    "print('Best model:', search.best_params_)\n",
    "model_comparison = pd.DataFrame(search.cv_results_)\n",
    "# score= best_score_ #nanti kalo kelamaan ini komen coba\n",
    "model_comparison"
   ]
  },
  {
   "cell_type": "code",
   "execution_count": 33,
   "metadata": {
    "ExecuteTime": {
     "end_time": "2020-12-29T04:13:51.410195Z",
     "start_time": "2020-12-29T04:13:48.839221Z"
    }
   },
   "outputs": [
    {
     "data": {
      "image/png": "[encoded data removed]",
      "text/plain": [
       "<Figure size 432x288 with 1 Axes>"
      ]
     },
     "metadata": {
      "needs_background": "light"
     },
     "output_type": "display_data"
    }
   ],
   "source": [
    "import seaborn as sns\n",
    "\n",
    "model_comparison['model'] = ['Naive Bayes', 'Random Forest','Log Reg']\n",
    "ax = sns.barplot('model', 'mean_test_roc_auc', data=model_comparison, capsize=.05, palette='Blues', ci=None)\n",
    "ax.set_xlabel(\"Models\",fontsize=12)\n",
    "ax.set_ylabel(\"Accuracy (%)\",fontsize=12)\n",
    "ax.tick_params(labelsize=12)\n",
    "ax.axes.set_title(\"ROC AUC Between Models\", fontsize=12)\n",
    "\n",
    "for p in ax.patches:\n",
    "    ax.annotate(\"%.2f\" % p.get_height(), (p.get_x() + p.get_width() / 2., p.get_height()),\n",
    "    ha='center', va='center', fontsize=12, color='black', xytext=(0, -15),\n",
    "    textcoords='offset points')"
   ]
  },
  {
   "cell_type": "code",
   "execution_count": 34,
   "metadata": {
    "ExecuteTime": {
     "end_time": "2020-12-29T04:13:51.934989Z",
     "start_time": "2020-12-29T04:13:51.412159Z"
    }
   },
   "outputs": [
    {
     "name": "stdout",
     "output_type": "stream",
     "text": [
      "Accuracy:  0.8718473074301295\n",
      "[[3836    3]\n",
      " [ 561    1]]\n"
     ]
    },
    {
     "data": {
      "image/png": "[encoded data removed]",
      "text/plain": [
       "<Figure size 288x288 with 2 Axes>"
      ]
     },
     "metadata": {
      "needs_background": "light"
     },
     "output_type": "display_data"
    }
   ],
   "source": [
    "def confusion_matrix_heatmap(cm, index, dim):\n",
    "    cmdf = pd.DataFrame(cm, index = index, columns=index)\n",
    "    dims = (dim, dim)\n",
    "    fig, ax = plt.subplots(figsize=dims)\n",
    "#     sns.heatmap(cmdf, annot=True, cmap=\"Blues\", center=0)\n",
    "    sns.heatmap(cmdf, annot=True, cmap=\"YlGnBu\", fmt=\"g\")\n",
    "\n",
    "    ax.set_ylabel('Actual')    \n",
    "    ax.set_xlabel('Predicted')\n",
    "\n",
    "prediction_val = best_model.predict(X_val)\n",
    "print(\"Accuracy: \", accuracy_score(y_val, prediction_val))\n",
    "print(confusion_matrix(y_val, prediction_val))\n",
    "# confusion_matrix_heatmap(confusion_matrix(y_val, prediction_val), loaded_model.classes_, 4)\n",
    "confusion_matrix_heatmap(confusion_matrix(y_val, prediction_val), best_model.classes_, 4)"
   ]
  },
  {
   "cell_type": "code",
   "execution_count": 35,
   "metadata": {
    "ExecuteTime": {
     "end_time": "2020-12-29T04:13:52.108490Z",
     "start_time": "2020-12-29T04:13:51.936951Z"
    }
   },
   "outputs": [
    {
     "name": "stdout",
     "output_type": "stream",
     "text": [
      "No Skill Model: ROC AUC = 0.500\n",
      "Trained Model: ROC AUC = 0.500\n"
     ]
    },
    {
     "data": {
      "image/png": "[encoded data removed]",
      "text/plain": [
       "<Figure size 432x288 with 1 Axes>"
      ]
     },
     "metadata": {
      "needs_background": "light"
     },
     "output_type": "display_data"
    }
   ],
   "source": [
    "from sklearn.metrics import roc_curve\n",
    "from sklearn.metrics import roc_auc_score\n",
    "from sklearn.metrics import auc\n",
    "\n",
    "# no skill model\n",
    "ns_probs = [1 for _ in range(len(y_val))] #random guessing\n",
    "# ns_probs = [1 for _ in range(28744)] #random guessing\n",
    "# ns_probs = ns_probs.append([0 for _ in range(20000)]) #random guessing\n",
    "\n",
    "# calculate scores\n",
    "ns_auc = roc_auc_score(y_val, ns_probs)\n",
    "lr_auc = roc_auc_score(y_val, prediction_val)\n",
    "\n",
    "# summarize scores\n",
    "print('No Skill Model: ROC AUC = %.3f' % (ns_auc))\n",
    "print('Trained Model: ROC AUC = %.3f' % (lr_auc))\n",
    "\n",
    "# calculate roc curves\n",
    "ns_fpr, ns_tpr, _ = roc_curve(y_val, ns_probs)\n",
    "lr_fpr, lr_tpr, _ = roc_curve(y_val, prediction_val)\n",
    "\n",
    "# plot the roc curve for the model\n",
    "plt.plot(ns_fpr, ns_tpr, linestyle='--', label='No Skill Model')\n",
    "plt.plot(lr_fpr, lr_tpr, marker='.', label='Random Forest Model')\n",
    "\n",
    "# axis labels\n",
    "plt.xlabel('False Positive Rate')\n",
    "plt.ylabel('True Positive Rate')\n",
    "\n",
    "# show the legend and plot\n",
    "plt.legend()\n",
    "plt.show()"
   ]
  },
  {
   "cell_type": "markdown",
   "metadata": {},
   "source": [
    "#### threshold predict diturunin jadi 0.25"
   ]
  },
  {
   "cell_type": "code",
   "execution_count": 36,
   "metadata": {
    "ExecuteTime": {
     "end_time": "2020-12-29T04:13:52.401739Z",
     "start_time": "2020-12-29T04:13:52.110487Z"
    }
   },
   "outputs": [
    {
     "name": "stdout",
     "output_type": "stream",
     "text": [
      "Accuracy:  0.792774369461486\n",
      "[[3385  454]\n",
      " [ 458  104]]\n"
     ]
    },
    {
     "data": {
      "image/png": "[encoded data removed]",
      "text/plain": [
       "<Figure size 288x288 with 2 Axes>"
      ]
     },
     "metadata": {
      "needs_background": "light"
     },
     "output_type": "display_data"
    }
   ],
   "source": [
    "def confusion_matrix_heatmap(cm, index, dim):\n",
    "    cmdf = pd.DataFrame(cm, index = index, columns=index)\n",
    "    dims = (dim, dim)\n",
    "    fig, ax = plt.subplots(figsize=dims)\n",
    "#     sns.heatmap(cmdf, annot=True, cmap=\"Blues\", center=0)\n",
    "    sns.heatmap(cmdf, annot=True, cmap=\"YlGnBu\", fmt=\"g\")\n",
    "\n",
    "    ax.set_ylabel('Actual')    \n",
    "    ax.set_xlabel('Predicted')\n",
    "\n",
    "prediction_val = (best_model.predict_proba(X_val)[:,1] >= 0.24).astype(int) # set threshold as 0.23\n",
    "print(\"Accuracy: \", accuracy_score(y_val, prediction_val))\n",
    "print(confusion_matrix(y_val, prediction_val))\n",
    "# confusion_matrix_heatmap(confusion_matrix(y_val, prediction_val), loaded_model.classes_, 4)\n",
    "confusion_matrix_heatmap(confusion_matrix(y_val, prediction_val), best_model.classes_, 4)"
   ]
  },
  {
   "cell_type": "code",
   "execution_count": 37,
   "metadata": {
    "ExecuteTime": {
     "end_time": "2020-12-29T04:13:52.581228Z",
     "start_time": "2020-12-29T04:13:52.402704Z"
    }
   },
   "outputs": [
    {
     "name": "stdout",
     "output_type": "stream",
     "text": [
      "No Skill Model: ROC AUC = 0.500\n",
      "Trained Model: ROC AUC = 0.533\n"
     ]
    },
    {
     "data": {
      "image/png": "[encoded data removed]",
      "text/plain": [
       "<Figure size 432x288 with 1 Axes>"
      ]
     },
     "metadata": {
      "needs_background": "light"
     },
     "output_type": "display_data"
    }
   ],
   "source": [
    "from sklearn.metrics import roc_curve\n",
    "from sklearn.metrics import roc_auc_score\n",
    "from sklearn.metrics import auc\n",
    "\n",
    "# no skill model\n",
    "ns_probs = [1 for _ in range(len(y_val))] #random guessing\n",
    "# ns_probs = [1 for _ in range(28744)] #random guessing\n",
    "# ns_probs = ns_probs.append([0 for _ in range(20000)]) #random guessing\n",
    "\n",
    "# calculate scores\n",
    "ns_auc = roc_auc_score(y_val, ns_probs)\n",
    "lr_auc = roc_auc_score(y_val, prediction_val)\n",
    "\n",
    "# summarize scores\n",
    "print('No Skill Model: ROC AUC = %.3f' % (ns_auc))\n",
    "print('Trained Model: ROC AUC = %.3f' % (lr_auc))\n",
    "\n",
    "# calculate roc curves\n",
    "ns_fpr, ns_tpr, _ = roc_curve(y_val, ns_probs)\n",
    "lr_fpr, lr_tpr, _ = roc_curve(y_val, prediction_val)\n",
    "\n",
    "# plot the roc curve for the model\n",
    "plt.plot(ns_fpr, ns_tpr, linestyle='--', label='No Skill Model')\n",
    "plt.plot(lr_fpr, lr_tpr, marker='.', label='Random Forest Model')\n",
    "\n",
    "# axis labels\n",
    "plt.xlabel('False Positive Rate')\n",
    "plt.ylabel('True Positive Rate')\n",
    "\n",
    "# show the legend and plot\n",
    "plt.legend()\n",
    "plt.show()"
   ]
  },
  {
   "cell_type": "code",
   "execution_count": 38,
   "metadata": {
    "ExecuteTime": {
     "end_time": "2020-12-29T04:13:52.702097Z",
     "start_time": "2020-12-29T04:13:52.583223Z"
    }
   },
   "outputs": [],
   "source": [
    "prediksi_dr_proba= (best_model.predict_proba(X_val)[:,1] >= 0.24).astype(bool) # set threshold as 0.23"
   ]
  },
  {
   "cell_type": "code",
   "execution_count": 39,
   "metadata": {
    "ExecuteTime": {
     "end_time": "2020-12-29T04:13:52.782926Z",
     "start_time": "2020-12-29T04:13:52.703899Z"
    }
   },
   "outputs": [
    {
     "data": {
      "text/plain": [
       "558"
      ]
     },
     "execution_count": 39,
     "metadata": {},
     "output_type": "execute_result"
    }
   ],
   "source": [
    "prediksi_dr_proba.sum()"
   ]
  },
  {
   "cell_type": "code",
   "execution_count": null,
   "metadata": {},
   "outputs": [],
   "source": []
  },
  {
   "cell_type": "code",
   "execution_count": 40,
   "metadata": {
    "ExecuteTime": {
     "end_time": "2020-12-29T04:13:52.864699Z",
     "start_time": "2020-12-29T04:13:52.788872Z"
    }
   },
   "outputs": [
    {
     "ename": "NameError",
     "evalue": "name 'a' is not defined",
     "output_type": "error",
     "traceback": [
      "\u001b[1;31m---------------------------------------------------------------------------\u001b[0m",
      "\u001b[1;31mNameError\u001b[0m                                 Traceback (most recent call last)",
      "\u001b[1;32m<ipython-input-40-3f786850e387>\u001b[0m in \u001b[0;36m<module>\u001b[1;34m\u001b[0m\n\u001b[1;32m----> 1\u001b[1;33m \u001b[0ma\u001b[0m\u001b[1;33m\u001b[0m\u001b[1;33m\u001b[0m\u001b[0m\n\u001b[0m",
      "\u001b[1;31mNameError\u001b[0m: name 'a' is not defined"
     ]
    }
   ],
   "source": [
    "a"
   ]
  },
  {
   "cell_type": "code",
   "execution_count": 206,
   "metadata": {
    "ExecuteTime": {
     "end_time": "2020-12-29T00:51:59.910804Z",
     "start_time": "2020-12-29T00:51:59.898833Z"
    }
   },
   "outputs": [
    {
     "data": {
      "text/plain": [
       "array([False,  True, False, ..., False, False,  True])"
      ]
     },
     "execution_count": 206,
     "metadata": {},
     "output_type": "execute_result"
    }
   ],
   "source": [
    "prediction_val"
   ]
  },
  {
   "cell_type": "markdown",
   "metadata": {},
   "source": [
    "# prediksi "
   ]
  },
  {
   "cell_type": "code",
   "execution_count": 233,
   "metadata": {
    "ExecuteTime": {
     "end_time": "2020-12-29T00:55:23.140187Z",
     "start_time": "2020-12-29T00:55:22.824855Z"
    }
   },
   "outputs": [],
   "source": [
    "prediksi = best_model.predict(test)\n",
    "prediksi_proba = best_model.predict_proba(test)"
   ]
  },
  {
   "cell_type": "code",
   "execution_count": 364,
   "metadata": {
    "ExecuteTime": {
     "end_time": "2020-12-29T02:18:35.155372Z",
     "start_time": "2020-12-29T02:18:34.679599Z"
    }
   },
   "outputs": [],
   "source": [
    "prediksi_024 = (best_model.predict_proba(test)[:,1] >= 0.08).astype(int) # set threshold as 0.23, with int"
   ]
  },
  {
   "cell_type": "code",
   "execution_count": 365,
   "metadata": {
    "ExecuteTime": {
     "end_time": "2020-12-29T02:18:35.182254Z",
     "start_time": "2020-12-29T02:18:35.163306Z"
    }
   },
   "outputs": [
    {
     "data": {
      "text/plain": [
       "array([1, 0, 1, 0, 1, 1, 1, 1, 1, 1, 1, 1, 1, 1, 1, 1, 1, 1, 1, 1, 1, 1,\n",
       "       1, 1, 1, 1, 1, 1, 1, 1, 1, 1, 1, 1, 1, 1, 1, 0, 0, 1, 1, 1, 1, 1,\n",
       "       1, 1, 1, 0, 1, 1, 1, 1, 1, 1, 1, 1, 1, 1, 1, 1, 1, 1, 1, 1, 1, 0,\n",
       "       1, 1, 1, 1, 1, 1, 1, 1, 1, 1, 1, 1, 1, 1, 1, 0, 1, 1, 1, 1, 1, 1,\n",
       "       1, 1, 1, 1, 1, 1, 1, 1, 1, 0, 1, 0, 1, 1, 1, 1, 1, 1, 1, 0, 1, 1])"
      ]
     },
     "execution_count": 365,
     "metadata": {},
     "output_type": "execute_result"
    }
   ],
   "source": [
    "prediksi_024[10:120]"
   ]
  },
  {
   "cell_type": "markdown",
   "metadata": {
    "ExecuteTime": {
     "end_time": "2020-12-29T00:56:05.309681Z",
     "start_time": "2020-12-29T00:56:05.304696Z"
    }
   },
   "source": [
    "hasil di **prediksi_024**"
   ]
  },
  {
   "cell_type": "code",
   "execution_count": 258,
   "metadata": {
    "ExecuteTime": {
     "end_time": "2020-12-29T01:01:34.685711Z",
     "start_time": "2020-12-29T01:01:34.680694Z"
    }
   },
   "outputs": [
    {
     "data": {
      "text/plain": [
       "pandas.core.frame.DataFrame"
      ]
     },
     "execution_count": 258,
     "metadata": {},
     "output_type": "execute_result"
    }
   ],
   "source": [
    "type(df)"
   ]
  },
  {
   "cell_type": "markdown",
   "metadata": {},
   "source": [
    "output ke DataFrame sesuai contoh *submission*"
   ]
  },
  {
   "cell_type": "code",
   "execution_count": 366,
   "metadata": {
    "ExecuteTime": {
     "end_time": "2020-12-29T02:18:41.317848Z",
     "start_time": "2020-12-29T02:18:41.296906Z"
    }
   },
   "outputs": [],
   "source": [
    "df=pd.DataFrame()\n",
    "df['index']=range(0,len(prediksi_024))\n",
    "df['Best Performance']=prediksi_024"
   ]
  },
  {
   "cell_type": "code",
   "execution_count": 367,
   "metadata": {
    "ExecuteTime": {
     "end_time": "2020-12-29T02:18:42.600369Z",
     "start_time": "2020-12-29T02:18:42.558478Z"
    }
   },
   "outputs": [],
   "source": [
    "df.to_csv('2.csv', index=False)"
   ]
  },
  {
   "cell_type": "markdown",
   "metadata": {},
   "source": [
    " cuba2"
   ]
  },
  {
   "cell_type": "code",
   "execution_count": 373,
   "metadata": {
    "ExecuteTime": {
     "end_time": "2020-12-25T03:10:31.850291Z",
     "start_time": "2020-12-25T03:10:31.838325Z"
    }
   },
   "outputs": [],
   "source": [
    "a=[2,3,4,5]\n",
    "q=[1]"
   ]
  },
  {
   "cell_type": "code",
   "execution_count": 374,
   "metadata": {
    "ExecuteTime": {
     "end_time": "2020-12-25T03:10:32.346473Z",
     "start_time": "2020-12-25T03:10:32.340489Z"
    }
   },
   "outputs": [],
   "source": [
    "b,c,d,e=a"
   ]
  },
  {
   "cell_type": "code",
   "execution_count": 375,
   "metadata": {
    "ExecuteTime": {
     "end_time": "2020-12-25T03:10:32.867911Z",
     "start_time": "2020-12-25T03:10:32.858891Z"
    }
   },
   "outputs": [],
   "source": [
    "z,=q\n",
    "zl=q"
   ]
  },
  {
   "cell_type": "code",
   "execution_count": 376,
   "metadata": {
    "ExecuteTime": {
     "end_time": "2020-12-25T03:10:33.184961Z",
     "start_time": "2020-12-25T03:10:33.174000Z"
    }
   },
   "outputs": [
    {
     "data": {
      "text/plain": [
       "(1, [1])"
      ]
     },
     "execution_count": 376,
     "metadata": {},
     "output_type": "execute_result"
    }
   ],
   "source": [
    "z,zl"
   ]
  }
 ],
 "metadata": {
  "colab": {
   "collapsed_sections": [],
   "name": "cro_awin.ipynb",
   "provenance": []
  },
  "kernelspec": {
   "display_name": "Python 3",
   "language": "python",
   "name": "python3"
  },
  "language_info": {
   "codemirror_mode": {
    "name": "ipython",
    "version": 3
   },
   "file_extension": ".py",
   "mimetype": "text/x-python",
   "name": "python",
   "nbconvert_exporter": "python",
   "pygments_lexer": "ipython3",
   "version": "3.8.3"
  }
 },
 "nbformat": 4,
 "nbformat_minor": 1
}
